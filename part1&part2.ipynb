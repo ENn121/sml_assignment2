{
 "cells": [
  {
   "cell_type": "code",
   "execution_count": 344,
   "metadata": {},
   "outputs": [],
   "source": [
    "# ***************************************************************************************\n",
    "# *    Title: comp90051 project2\n",
    "# *    Author: Shengqi Zhou  893295\n",
    "# ***************************************************************************************\n",
    "\n",
    "import csv\n",
    "import sys\n",
    "import numpy as np\n",
    "\n",
    "female_path = 'Data-Project2/FEMALE.csv'\n",
    "male_path = 'Data-Project2/MALE.csv'\n",
    "mixed_path = 'Data-Project2/MIXED.csv'"
   ]
  },
  {
   "cell_type": "code",
   "execution_count": 351,
   "metadata": {},
   "outputs": [],
   "source": [
    "def get_data(data_path):\n",
    "    data = np.genfromtxt(data_path, delimiter=',', skip_header=1)\n",
    "    data_x = data[:,:-1]\n",
    "    data_y = data[:,-1:]\n",
    "    return data_x, data_y\n",
    "\n",
    "female_x, female_y = get_data(female_path)\n",
    "male_x, male_y = get_data(male_path)\n",
    "mixed_x, mixed_y = get_data(mixed_path)\n",
    "#print(female_y)"
   ]
  },
  {
   "cell_type": "code",
   "execution_count": 346,
   "metadata": {},
   "outputs": [],
   "source": [
    "from sklearn.model_selection import train_test_split\n",
    "\n",
    "def get_train(data_x, data_y):\n",
    "    \n",
    "    train_x, test_x, train_y, test_y = train_test_split(data_x, \n",
    "                                                        data_y, \n",
    "                                                        test_size = 0.1, \n",
    "                                                        random_state = 40)\n",
    "                                                        \n",
    "    return train_x, test_x, train_y, test_y\n",
    "\n",
    "female_train_x, female_test_x, female_train_y, female_test_y = get_train(female_x, female_y)\n",
    "male_train_x, male_test_x, male_train_y, male_test_y = get_train(male_x, male_y)\n",
    "mixed_train_x, mixed_test_x, mixed_train_y, mixed_test_y = get_train(mixed_x, mixed_y)"
   ]
  },
  {
   "cell_type": "code",
   "execution_count": 347,
   "metadata": {},
   "outputs": [],
   "source": [
    "from sklearn.linear_model import LinearRegression\n",
    "from sklearn.neural_network import MLPClassifier\n",
    "from sklearn.metrics import mean_squared_error\n",
    "\n",
    "lr = LinearRegression()\n",
    "mlp = MLPClassifier(hidden_layer_sizes=(64,64, 64), max_iter=250, activation = 'relu', learning_rate_init=.001)\n",
    "\n",
    "f1_train_x = np.vstack((female_train_x, male_train_x))\n",
    "f1_train_y = np.vstack((female_train_y, male_train_y))\n",
    "f1_test_x = mixed_test_x[100:]\n",
    "f1_test_y = mixed_test_y[100:]\n",
    "\n",
    "f2_train_x = np.vstack((female_train_x, mixed_train_x))\n",
    "f2_train_y = np.vstack((female_train_y, mixed_train_y))\n",
    "f2_test_x = male_test_x[100:]\n",
    "f2_test_y = male_test_y[100:]\n",
    "\n",
    "f3_train_x = np.vstack((male_train_x, mixed_train_x))\n",
    "f3_train_y = np.vstack((male_train_y, mixed_train_y))\n",
    "f3_dev_x = female_test_x[:100]\n",
    "f3_dev_y = female_test_y[:100]\n",
    "f3_test_x = female_test_x[100:]\n",
    "f3_test_y = female_test_y[100:]\n",
    "\n",
    "def output(model, train_x, train_y, test_x, test_y):\n",
    "    model.fit(train_x, train_y)\n",
    "    predict = model.predict(test_x)\n",
    "    mse = mean_squared_error(test_y, predict)\n",
    "    return mse"
   ]
  },
  {
   "cell_type": "code",
   "execution_count": 348,
   "metadata": {},
   "outputs": [
    {
     "name": "stdout",
     "output_type": "stream",
     "text": [
      "mse of srconly_lr_female: 153.77693893451254\n",
      "mse of srconly_lr_male: 172.4840653401758\n",
      "mse of srconly_lr_mixed: 134.3544776118508\n"
     ]
    },
    {
     "name": "stderr",
     "output_type": "stream",
     "text": [
      "/opt/anaconda3/lib/python3.7/site-packages/sklearn/neural_network/multilayer_perceptron.py:921: DataConversionWarning: A column-vector y was passed when a 1d array was expected. Please change the shape of y to (n_samples, ), for example using ravel().\n",
      "  y = column_or_1d(y, warn=True)\n",
      "/opt/anaconda3/lib/python3.7/site-packages/sklearn/neural_network/multilayer_perceptron.py:566: ConvergenceWarning: Stochastic Optimizer: Maximum iterations (250) reached and the optimization hasn't converged yet.\n",
      "  % self.max_iter, ConvergenceWarning)\n",
      "/opt/anaconda3/lib/python3.7/site-packages/sklearn/neural_network/multilayer_perceptron.py:921: DataConversionWarning: A column-vector y was passed when a 1d array was expected. Please change the shape of y to (n_samples, ), for example using ravel().\n",
      "  y = column_or_1d(y, warn=True)\n",
      "/opt/anaconda3/lib/python3.7/site-packages/sklearn/neural_network/multilayer_perceptron.py:566: ConvergenceWarning: Stochastic Optimizer: Maximum iterations (250) reached and the optimization hasn't converged yet.\n",
      "  % self.max_iter, ConvergenceWarning)\n",
      "/opt/anaconda3/lib/python3.7/site-packages/sklearn/neural_network/multilayer_perceptron.py:921: DataConversionWarning: A column-vector y was passed when a 1d array was expected. Please change the shape of y to (n_samples, ), for example using ravel().\n",
      "  y = column_or_1d(y, warn=True)\n"
     ]
    },
    {
     "name": "stdout",
     "output_type": "stream",
     "text": [
      "mse of srconly_mlp_female: 192.34897360703812\n",
      "mse of srconly_mlp_male: 158.04511278195488\n",
      "mse of srconly_mlp_mixed: 173.29477020602218\n"
     ]
    },
    {
     "name": "stderr",
     "output_type": "stream",
     "text": [
      "/opt/anaconda3/lib/python3.7/site-packages/sklearn/neural_network/multilayer_perceptron.py:566: ConvergenceWarning: Stochastic Optimizer: Maximum iterations (250) reached and the optimization hasn't converged yet.\n",
      "  % self.max_iter, ConvergenceWarning)\n"
     ]
    }
   ],
   "source": [
    "#srconly\n",
    "srconly_lr_female = output(lr,\n",
    "                       f3_train_x, \n",
    "                       f3_train_y, \n",
    "                       female_test_x[100:], \n",
    "                       female_test_y[100:])\n",
    "srconly_lr_male = output(lr,\n",
    "                       f2_train_x, \n",
    "                       f2_train_y, \n",
    "                       male_test_x[100:], \n",
    "                       male_test_y[100:])\n",
    "srconly_lr_mixed = output(lr,\n",
    "                       f1_train_x, \n",
    "                       f1_train_y, \n",
    "                       mixed_test_x[100:], \n",
    "                       mixed_test_y[100:])\n",
    "print(\"mse of srconly_lr_female:\", srconly_lr_female)\n",
    "print(\"mse of srconly_lr_male:\", srconly_lr_male)\n",
    "print(\"mse of srconly_lr_mixed:\", srconly_lr_mixed)\n",
    "\n",
    "srconly_mlp_female = output(mlp,\n",
    "                       f3_train_x, \n",
    "                       f3_train_y, \n",
    "                       female_test_x[100:], \n",
    "                       female_test_y[100:])\n",
    "srconly_mlp_male = output(mlp,\n",
    "                       f2_train_x, \n",
    "                       f2_train_y, \n",
    "                       male_test_x[100:], \n",
    "                       male_test_y[100:])\n",
    "srconly_mlp_mixed = output(mlp,\n",
    "                       f1_train_x, \n",
    "                       f1_train_y, \n",
    "                       mixed_test_x[100:], \n",
    "                       mixed_test_y[100:])\n",
    "print(\"mse of srconly_mlp_female:\", srconly_mlp_female)\n",
    "print(\"mse of srconly_mlp_male:\", srconly_mlp_male)\n",
    "print(\"mse of srconly_mlp_mixed:\", srconly_mlp_mixed)"
   ]
  },
  {
   "cell_type": "code",
   "execution_count": 350,
   "metadata": {},
   "outputs": [
    {
     "name": "stdout",
     "output_type": "stream",
     "text": [
      "mse of tgtonly_lr_female: 144.64811450502094\n",
      "mse of tgtonly_lr_male: 176.57364933876556\n",
      "mse of tgtonly_lr_mixed: 132.1527097430184\n"
     ]
    },
    {
     "name": "stderr",
     "output_type": "stream",
     "text": [
      "/opt/anaconda3/lib/python3.7/site-packages/sklearn/neural_network/multilayer_perceptron.py:921: DataConversionWarning: A column-vector y was passed when a 1d array was expected. Please change the shape of y to (n_samples, ), for example using ravel().\n",
      "  y = column_or_1d(y, warn=True)\n",
      "/opt/anaconda3/lib/python3.7/site-packages/sklearn/neural_network/multilayer_perceptron.py:566: ConvergenceWarning: Stochastic Optimizer: Maximum iterations (250) reached and the optimization hasn't converged yet.\n",
      "  % self.max_iter, ConvergenceWarning)\n",
      "/opt/anaconda3/lib/python3.7/site-packages/sklearn/neural_network/multilayer_perceptron.py:921: DataConversionWarning: A column-vector y was passed when a 1d array was expected. Please change the shape of y to (n_samples, ), for example using ravel().\n",
      "  y = column_or_1d(y, warn=True)\n",
      "/opt/anaconda3/lib/python3.7/site-packages/sklearn/neural_network/multilayer_perceptron.py:566: ConvergenceWarning: Stochastic Optimizer: Maximum iterations (250) reached and the optimization hasn't converged yet.\n",
      "  % self.max_iter, ConvergenceWarning)\n",
      "/opt/anaconda3/lib/python3.7/site-packages/sklearn/neural_network/multilayer_perceptron.py:921: DataConversionWarning: A column-vector y was passed when a 1d array was expected. Please change the shape of y to (n_samples, ), for example using ravel().\n",
      "  y = column_or_1d(y, warn=True)\n"
     ]
    },
    {
     "name": "stdout",
     "output_type": "stream",
     "text": [
      "mse of tgtonly_mlp_female: 138.30791788856305\n",
      "mse of tgtonly_mlp_male: 199.01503759398497\n",
      "mse of tgtonly_mlp_mixed: 143.36450079239302\n"
     ]
    },
    {
     "name": "stderr",
     "output_type": "stream",
     "text": [
      "/opt/anaconda3/lib/python3.7/site-packages/sklearn/neural_network/multilayer_perceptron.py:566: ConvergenceWarning: Stochastic Optimizer: Maximum iterations (250) reached and the optimization hasn't converged yet.\n",
      "  % self.max_iter, ConvergenceWarning)\n"
     ]
    }
   ],
   "source": [
    "#tgtonly\n",
    "tgtonly_lr_female = output(lr,\n",
    "                       female_train_x[:100], \n",
    "                       female_train_y[:100], \n",
    "                       female_test_x[100:], \n",
    "                       female_test_y[100:])\n",
    "tgtonly_lr_male = output(lr,\n",
    "                       male_train_x[:100], \n",
    "                       male_train_y[:100], \n",
    "                       male_test_x[100:], \n",
    "                       male_test_y[100:])\n",
    "tgtonly_lr_mixed = output(lr,\n",
    "                       mixed_train_x[:100], \n",
    "                       mixed_train_y[:100], \n",
    "                       mixed_test_x[100:], \n",
    "                       mixed_test_y[100:])\n",
    "print(\"mse of tgtonly_lr_female:\", tgtonly_lr_female)\n",
    "print(\"mse of tgtonly_lr_male:\", tgtonly_lr_male)\n",
    "print(\"mse of tgtonly_lr_mixed:\", tgtonly_lr_mixed)\n",
    "tgtonly_mlp_female = output(mlp,\n",
    "                       female_train_x[:100], \n",
    "                       female_train_y[:100], \n",
    "                       female_test_x[100:], \n",
    "                       female_test_y[100:])\n",
    "tgtonly_mlp_male = output(mlp,\n",
    "                       male_train_x[:100], \n",
    "                       male_train_y[:100], \n",
    "                       male_test_x[100:], \n",
    "                       male_test_y[100:])\n",
    "tgtonly_mlp_mixed = output(mlp,\n",
    "                       mixed_train_x[:100], \n",
    "                       mixed_train_y[:100], \n",
    "                       mixed_test_x[100:], \n",
    "                       mixed_test_y[100:])\n",
    "print(\"mse of tgtonly_mlp_female:\", tgtonly_mlp_female)\n",
    "print(\"mse of tgtonly_mlp_male:\", tgtonly_mlp_male)\n",
    "print(\"mse of tgtonly_mlp_mixed:\", tgtonly_mlp_mixed)"
   ]
  },
  {
   "cell_type": "code",
   "execution_count": 185,
   "metadata": {},
   "outputs": [
    {
     "name": "stdout",
     "output_type": "stream",
     "text": [
      "mse of all_lr_female: 153.36632942398384\n",
      "mse of all_lr_male: 172.54123817848006\n",
      "mse of all_lr_mixed: 134.40371417008464\n"
     ]
    },
    {
     "name": "stderr",
     "output_type": "stream",
     "text": [
      "/opt/anaconda3/lib/python3.7/site-packages/sklearn/neural_network/multilayer_perceptron.py:921: DataConversionWarning: A column-vector y was passed when a 1d array was expected. Please change the shape of y to (n_samples, ), for example using ravel().\n",
      "  y = column_or_1d(y, warn=True)\n",
      "/opt/anaconda3/lib/python3.7/site-packages/sklearn/neural_network/multilayer_perceptron.py:566: ConvergenceWarning: Stochastic Optimizer: Maximum iterations (250) reached and the optimization hasn't converged yet.\n",
      "  % self.max_iter, ConvergenceWarning)\n",
      "/opt/anaconda3/lib/python3.7/site-packages/sklearn/neural_network/multilayer_perceptron.py:921: DataConversionWarning: A column-vector y was passed when a 1d array was expected. Please change the shape of y to (n_samples, ), for example using ravel().\n",
      "  y = column_or_1d(y, warn=True)\n",
      "/opt/anaconda3/lib/python3.7/site-packages/sklearn/neural_network/multilayer_perceptron.py:566: ConvergenceWarning: Stochastic Optimizer: Maximum iterations (250) reached and the optimization hasn't converged yet.\n",
      "  % self.max_iter, ConvergenceWarning)\n",
      "/opt/anaconda3/lib/python3.7/site-packages/sklearn/neural_network/multilayer_perceptron.py:921: DataConversionWarning: A column-vector y was passed when a 1d array was expected. Please change the shape of y to (n_samples, ), for example using ravel().\n",
      "  y = column_or_1d(y, warn=True)\n"
     ]
    },
    {
     "name": "stdout",
     "output_type": "stream",
     "text": [
      "mse of all_mlp_female: 165.1466275659824\n",
      "mse of all_mlp_male: 165.0\n",
      "mse of all_mlp_mixed: 161.2202852614897\n"
     ]
    },
    {
     "name": "stderr",
     "output_type": "stream",
     "text": [
      "/opt/anaconda3/lib/python3.7/site-packages/sklearn/neural_network/multilayer_perceptron.py:566: ConvergenceWarning: Stochastic Optimizer: Maximum iterations (250) reached and the optimization hasn't converged yet.\n",
      "  % self.max_iter, ConvergenceWarning)\n"
     ]
    }
   ],
   "source": [
    "#all\n",
    "all_lr_female = output(lr,\n",
    "                       np.vstack((f3_train_x, female_train_x[:100])),\n",
    "                       np.vstack((f3_train_y, female_train_y[:100])),\n",
    "                       female_test_x[100:],\n",
    "                       female_test_y[100:])\n",
    "all_lr_male = output(lr,\n",
    "                       np.vstack((f2_train_x, male_train_x[:100])),\n",
    "                       np.vstack((f2_train_y, male_train_y[:100])),\n",
    "                       male_test_x[100:],\n",
    "                       male_test_y[100:])\n",
    "all_lr_mixed = output(lr,\n",
    "                       np.vstack((f1_train_x, mixed_train_x[:100])),\n",
    "                       np.vstack((f1_train_y, mixed_train_y[:100])),\n",
    "                       mixed_test_x[100:],\n",
    "                       mixed_test_y[100:])\n",
    "print(\"mse of all_lr_female:\", all_lr_female)\n",
    "print(\"mse of all_lr_male:\", all_lr_male)\n",
    "print(\"mse of all_lr_mixed:\", all_lr_mixed)\n",
    "\n",
    "all_mlp_female = output(mlp,\n",
    "                       np.vstack((f3_train_x, female_train_x[:100])),\n",
    "                       np.vstack((f3_train_y, female_train_y[:100])),\n",
    "                       female_test_x[100:],\n",
    "                       female_test_y[100:])\n",
    "all_mlp_male = output(mlp,\n",
    "                       np.vstack((f2_train_x, male_train_x[:100])),\n",
    "                       np.vstack((f2_train_y, male_train_y[:100])),\n",
    "                       male_test_x[100:],\n",
    "                       male_test_y[100:])\n",
    "all_mlp_mixed = output(mlp,\n",
    "                       np.vstack((f1_train_x, mixed_train_x[:100])),\n",
    "                       np.vstack((f1_train_y, mixed_train_y[:100])),\n",
    "                       mixed_test_x[100:],\n",
    "                       mixed_test_y[100:])\n",
    "print(\"mse of all_mlp_female:\", all_mlp_female)\n",
    "print(\"mse of all_mlp_male:\", all_mlp_male)\n",
    "print(\"mse of all_mlp_mixed:\", all_mlp_mixed)"
   ]
  },
  {
   "cell_type": "code",
   "execution_count": 186,
   "metadata": {},
   "outputs": [
    {
     "name": "stdout",
     "output_type": "stream",
     "text": [
      "mse of weighted_lr_female: 168.90113814388303\n",
      "mse of weighted_lr_male: 195.2340466256104\n",
      "mse of weighted_lr_mixed: 152.80167054373175\n"
     ]
    },
    {
     "name": "stderr",
     "output_type": "stream",
     "text": [
      "/opt/anaconda3/lib/python3.7/site-packages/sklearn/neural_network/multilayer_perceptron.py:921: DataConversionWarning: A column-vector y was passed when a 1d array was expected. Please change the shape of y to (n_samples, ), for example using ravel().\n",
      "  y = column_or_1d(y, warn=True)\n",
      "/opt/anaconda3/lib/python3.7/site-packages/sklearn/neural_network/multilayer_perceptron.py:566: ConvergenceWarning: Stochastic Optimizer: Maximum iterations (250) reached and the optimization hasn't converged yet.\n",
      "  % self.max_iter, ConvergenceWarning)\n",
      "/opt/anaconda3/lib/python3.7/site-packages/sklearn/neural_network/multilayer_perceptron.py:921: DataConversionWarning: A column-vector y was passed when a 1d array was expected. Please change the shape of y to (n_samples, ), for example using ravel().\n",
      "  y = column_or_1d(y, warn=True)\n",
      "/opt/anaconda3/lib/python3.7/site-packages/sklearn/neural_network/multilayer_perceptron.py:566: ConvergenceWarning: Stochastic Optimizer: Maximum iterations (250) reached and the optimization hasn't converged yet.\n",
      "  % self.max_iter, ConvergenceWarning)\n",
      "/opt/anaconda3/lib/python3.7/site-packages/sklearn/neural_network/multilayer_perceptron.py:921: DataConversionWarning: A column-vector y was passed when a 1d array was expected. Please change the shape of y to (n_samples, ), for example using ravel().\n",
      "  y = column_or_1d(y, warn=True)\n"
     ]
    },
    {
     "name": "stdout",
     "output_type": "stream",
     "text": [
      "mse of weighted_mlp_female: 278.8240469208211\n",
      "mse of weighted_mlp_male: 317.906015037594\n",
      "mse of weighted_mlp_mixed: 247.06022187004754\n"
     ]
    },
    {
     "name": "stderr",
     "output_type": "stream",
     "text": [
      "/opt/anaconda3/lib/python3.7/site-packages/sklearn/neural_network/multilayer_perceptron.py:566: ConvergenceWarning: Stochastic Optimizer: Maximum iterations (250) reached and the optimization hasn't converged yet.\n",
      "  % self.max_iter, ConvergenceWarning)\n"
     ]
    }
   ],
   "source": [
    "#weighted\n",
    "def get_weight(data_n, data_m, N, M):\n",
    "    weight = M/N\n",
    "    data = np.vstack((data_n*weight, data_m))\n",
    "    return data\n",
    "\n",
    "f1_weight = get_weight(f1_train_x, mixed_train_x[:100], \n",
    "                       len(f1_train_x), len(mixed_train_x[:100]))\n",
    "f1_weight_y = np.vstack((f3_train_y, female_train_y[:100]))\n",
    "\n",
    "f2_weight = get_weight(f2_train_x, male_train_x[:100], \n",
    "                       len(f2_train_x), len(male_train_x[:100]))\n",
    "f2_weight_y = np.vstack((f2_train_y, male_train_y[:100]))\n",
    "\n",
    "f3_weight = get_weight(f3_train_x, female_train_x[:100], \n",
    "                       len(f3_train_x), len(female_train_x[:100]))\n",
    "f3_weight_y = np.vstack((f1_train_y, mixed_train_y[:100]))\n",
    "\n",
    "weighted_lr_female = output(lr,\n",
    "                          f3_weight,\n",
    "                          f3_weight_y,\n",
    "                          female_test_x[100:],\n",
    "                          female_test_y[100:])\n",
    "weighted_lr_male = output(lr,\n",
    "                          f2_weight,\n",
    "                          f2_weight_y,\n",
    "                          male_test_x[100:],\n",
    "                          male_test_y[100:])\n",
    "weighted_lr_mixed = output(lr,\n",
    "                          f1_weight,\n",
    "                          f1_weight_y,\n",
    "                          mixed_test_x[100:],\n",
    "                          mixed_test_y[100:])\n",
    "print(\"mse of weighted_lr_female:\", weighted_lr_female)\n",
    "print(\"mse of weighted_lr_male:\", weighted_lr_male)\n",
    "print(\"mse of weighted_lr_mixed:\", weighted_lr_mixed)\n",
    "\n",
    "weighted_mlp_female = output(mlp,\n",
    "                          f3_weight,\n",
    "                          f3_weight_y,\n",
    "                          female_test_x[100:],\n",
    "                          female_test_y[100:])\n",
    "weighted_mlp_male = output(mlp,\n",
    "                          f2_weight,\n",
    "                          f2_weight_y,\n",
    "                          male_test_x[100:],\n",
    "                          male_test_y[100:])\n",
    "weighted_mlp_mixed = output(mlp,\n",
    "                          f1_weight,\n",
    "                          f1_weight_y,\n",
    "                          mixed_test_x[100:],\n",
    "                          mixed_test_y[100:])\n",
    "print(\"mse of weighted_mlp_female:\", weighted_mlp_female)\n",
    "print(\"mse of weighted_mlp_male:\", weighted_mlp_male)\n",
    "print(\"mse of weighted_mlp_mixed:\", weighted_mlp_mixed)"
   ]
  },
  {
   "cell_type": "code",
   "execution_count": 187,
   "metadata": {},
   "outputs": [
    {
     "name": "stdout",
     "output_type": "stream",
     "text": [
      "mse of pred_lr_female: 160.91779800055718\n",
      "mse of pred_lr_male: 157.14969143780962\n",
      "mse of pred_lr_mixed: 154.82753549199032\n"
     ]
    },
    {
     "name": "stderr",
     "output_type": "stream",
     "text": [
      "/opt/anaconda3/lib/python3.7/site-packages/sklearn/neural_network/multilayer_perceptron.py:921: DataConversionWarning: A column-vector y was passed when a 1d array was expected. Please change the shape of y to (n_samples, ), for example using ravel().\n",
      "  y = column_or_1d(y, warn=True)\n",
      "/opt/anaconda3/lib/python3.7/site-packages/sklearn/neural_network/multilayer_perceptron.py:566: ConvergenceWarning: Stochastic Optimizer: Maximum iterations (250) reached and the optimization hasn't converged yet.\n",
      "  % self.max_iter, ConvergenceWarning)\n",
      "/opt/anaconda3/lib/python3.7/site-packages/sklearn/neural_network/multilayer_perceptron.py:921: DataConversionWarning: A column-vector y was passed when a 1d array was expected. Please change the shape of y to (n_samples, ), for example using ravel().\n",
      "  y = column_or_1d(y, warn=True)\n",
      "/opt/anaconda3/lib/python3.7/site-packages/sklearn/neural_network/multilayer_perceptron.py:566: ConvergenceWarning: Stochastic Optimizer: Maximum iterations (250) reached and the optimization hasn't converged yet.\n",
      "  % self.max_iter, ConvergenceWarning)\n",
      "/opt/anaconda3/lib/python3.7/site-packages/sklearn/neural_network/multilayer_perceptron.py:921: DataConversionWarning: A column-vector y was passed when a 1d array was expected. Please change the shape of y to (n_samples, ), for example using ravel().\n",
      "  y = column_or_1d(y, warn=True)\n",
      "/opt/anaconda3/lib/python3.7/site-packages/sklearn/neural_network/multilayer_perceptron.py:566: ConvergenceWarning: Stochastic Optimizer: Maximum iterations (250) reached and the optimization hasn't converged yet.\n",
      "  % self.max_iter, ConvergenceWarning)\n",
      "/opt/anaconda3/lib/python3.7/site-packages/sklearn/neural_network/multilayer_perceptron.py:921: DataConversionWarning: A column-vector y was passed when a 1d array was expected. Please change the shape of y to (n_samples, ), for example using ravel().\n",
      "  y = column_or_1d(y, warn=True)\n",
      "/opt/anaconda3/lib/python3.7/site-packages/sklearn/neural_network/multilayer_perceptron.py:566: ConvergenceWarning: Stochastic Optimizer: Maximum iterations (250) reached and the optimization hasn't converged yet.\n",
      "  % self.max_iter, ConvergenceWarning)\n",
      "/opt/anaconda3/lib/python3.7/site-packages/sklearn/neural_network/multilayer_perceptron.py:921: DataConversionWarning: A column-vector y was passed when a 1d array was expected. Please change the shape of y to (n_samples, ), for example using ravel().\n",
      "  y = column_or_1d(y, warn=True)\n",
      "/opt/anaconda3/lib/python3.7/site-packages/sklearn/neural_network/multilayer_perceptron.py:566: ConvergenceWarning: Stochastic Optimizer: Maximum iterations (250) reached and the optimization hasn't converged yet.\n",
      "  % self.max_iter, ConvergenceWarning)\n",
      "/opt/anaconda3/lib/python3.7/site-packages/sklearn/neural_network/multilayer_perceptron.py:921: DataConversionWarning: A column-vector y was passed when a 1d array was expected. Please change the shape of y to (n_samples, ), for example using ravel().\n",
      "  y = column_or_1d(y, warn=True)\n"
     ]
    },
    {
     "name": "stdout",
     "output_type": "stream",
     "text": [
      "mse of pred_mlp_female: 209.3736462093863\n",
      "mse of pred_mlp_male: 247.38472834067548\n",
      "mse of pred_mlp_mixed: 217.85329553508151\n"
     ]
    },
    {
     "name": "stderr",
     "output_type": "stream",
     "text": [
      "/opt/anaconda3/lib/python3.7/site-packages/sklearn/neural_network/multilayer_perceptron.py:566: ConvergenceWarning: Stochastic Optimizer: Maximum iterations (250) reached and the optimization hasn't converged yet.\n",
      "  % self.max_iter, ConvergenceWarning)\n"
     ]
    }
   ],
   "source": [
    "#pred\n",
    "def get_pred(model, train_x, train_y, test_x, test_y):\n",
    "    model.fit(train_x, train_y)\n",
    "    predict = model.predict(test_x)\n",
    "    test_X = np.column_stack((test_x, predict))\n",
    "    return test_X\n",
    "\n",
    "#lr\n",
    "pred_female = get_pred(lr,\n",
    "                f3_train_x, \n",
    "                f3_train_y, \n",
    "                female_x, \n",
    "                female_y)\n",
    "\n",
    "pred_male = get_pred(lr,\n",
    "                f2_train_x, \n",
    "                f2_train_y, \n",
    "                male_x, \n",
    "                male_y)\n",
    "\n",
    "pred_mixed = get_pred(lr,\n",
    "                f1_train_x, \n",
    "                f1_train_y, \n",
    "                mixed_x, \n",
    "                mixed_y)\n",
    "\n",
    "\n",
    "pred_female_train_x, pred_female_test_x, pred_female_train_y, pred_female_test_y = get_train(pred_female, female_y)\n",
    "pred_male_train_x, pred_male_test_x, pred_male_train_y, pred_male_test_y = get_train(pred_male, male_y)\n",
    "pred_mixed_train_x, pred_mixed_test_x, pred_mixed_train_y, pred_mixed_test_y = get_train(pred_mixed, mixed_y)\n",
    "\n",
    "pred_lr_female = output(lr,\n",
    "                       pred_female_train_x[:100], \n",
    "                       pred_female_train_y[:100], \n",
    "                       pred_female_test_x[100:], \n",
    "                       pred_female_test_y[100:])\n",
    "pred_lr_male = output(lr,\n",
    "                       pred_male_train_x[:100], \n",
    "                       pred_male_train_y[:100], \n",
    "                       pred_male_test_x[100:], \n",
    "                       pred_male_test_y[100:])\n",
    "pred_lr_mixed = output(lr,\n",
    "                       pred_mixed_train_x[:100], \n",
    "                       pred_mixed_train_y[:100], \n",
    "                       pred_mixed_test_x[100:], \n",
    "                       pred_mixed_test_y[100:])\n",
    "print(\"mse of pred_lr_female:\", pred_lr_female)\n",
    "print(\"mse of pred_lr_male:\", pred_lr_male)\n",
    "print(\"mse of pred_lr_mixed:\", pred_lr_mixed)\n",
    "\n",
    "#mlp\n",
    "pred_female_mlp = get_pred(mlp,\n",
    "                            f3_train_x, \n",
    "                            f3_train_y, \n",
    "                            female_x, \n",
    "                            female_y)\n",
    "\n",
    "pred_male_mlp = get_pred(mlp,\n",
    "                        f2_train_x, \n",
    "                        f2_train_y, \n",
    "                        male_x, \n",
    "                        male_y)\n",
    "\n",
    "pred_mixed_mlp = get_pred(mlp,\n",
    "                        f1_train_x, \n",
    "                        f1_train_y, \n",
    "                        mixed_x, \n",
    "                        mixed_y)\n",
    "\n",
    "\n",
    "mlp_female_train_x, mlp_female_test_x, mlp_female_train_y, mlp_female_test_y = get_train(pred_female_mlp, female_y)\n",
    "mlp_male_train_x, mlp_male_test_x, mlp_male_train_y, mlp_male_test_y = get_train(pred_male_mlp, male_y)\n",
    "mlp_mixed_train_x, mlp_mixed_test_x, mlp_mixed_train_y, mlp_mixed_test_y = get_train(pred_mixed_mlp, mixed_y)\n",
    "\n",
    "pred_mlp_female = output(mlp,\n",
    "                       mlp_female_train_x[:100], \n",
    "                       mlp_female_train_y[:100], \n",
    "                       mlp_female_test_x[100:], \n",
    "                       mlp_female_test_y[100:])\n",
    "pred_mlp_male = output(mlp,\n",
    "                       mlp_male_train_x[:100], \n",
    "                       mlp_male_train_y[:100], \n",
    "                       mlp_male_test_x[100:], \n",
    "                       mlp_male_test_y[100:])\n",
    "pred_mlp_mixed = output(mlp,\n",
    "                       mlp_mixed_train_x[:100], \n",
    "                       mlp_mixed_train_y[:100], \n",
    "                       mlp_mixed_test_x[100:], \n",
    "                       mlp_mixed_test_y[100:])\n",
    "print(\"mse of pred_mlp_female:\", pred_mlp_female)\n",
    "print(\"mse of pred_mlp_male:\", pred_mlp_male)\n",
    "print(\"mse of pred_mlp_mixed:\", pred_mlp_mixed)"
   ]
  },
  {
   "cell_type": "code",
   "execution_count": null,
   "metadata": {},
   "outputs": [],
   "source": [
    "#linint\n",
    "def get_linint(model1, model2, train_x, train_y, dev_x):\n",
    "    model1.fit(train_x, train_y)\n",
    "    model2.fit(train_x, train_y)\n",
    "    predict1 = model1.predict(dev_x)\n",
    "    predict2 = model2.predict(dev_x)\n",
    "    return predict1, predict2\n",
    "\n",
    "#srconly predict of dev by lr, mlp and lr-mlp\n",
    "src_lr_female, src_mlp_female = get_linint(lr, mlp, f3_train_x, f3_train_y, female_test_x[:100])\n",
    "src_lr_male, src_mlp_male = get_linint(lr, mlp, f2_train_x, f2_train_y, male_test_x[:100])\n",
    "src_lr_mixed, src_mlp_mixed = get_linint(lr, mlp, f1_train_x, f1_train_y, mixed_test_x[:100])\n",
    "\n",
    "#tgtonly predict of dev by lr, mlp and lr-mlp\n",
    "tgt_lr_female, tgt_mlp_female = get_linint(lr, mlp, female_train_x[:100], female_train_y[:100], female_test_x[:100])\n",
    "tgt_lr_male, tgt_mlp_male = get_linint(lr, mlp, male_train_x[:100], male_train_y[:100], male_test_x[:100])\n",
    "tgt_lr_mixed, tgt_mlp_mixed = get_linint(lr, mlp, mixed_train_x[:100], mixed_train_y[:100], mixed_test_x[:100])"
   ]
  },
  {
   "cell_type": "code",
   "execution_count": 261,
   "metadata": {},
   "outputs": [
    {
     "name": "stdout",
     "output_type": "stream",
     "text": [
      "210.28254075162576\n",
      "183.84535096901493\n",
      "183.51808355699427\n"
     ]
    }
   ],
   "source": [
    "def get_linear(y1, y2, dev_y, k = 0.5):\n",
    "    y1_minus_y2 = np.array(y1) - np.array(y2)\n",
    "    y = y1 + k*y1_minus_y2\n",
    "    mse = mean_squared_error(dev_y, y)\n",
    "    return mse\n",
    "\n",
    "mse_female = get_linear(src_lr_female, tgt_lr_female, female_test_y[:100], k = -0.65)\n",
    "mse_male = get_linear(src_lr_male, tgt_lr_male, male_test_y[:100], k = -0.1)\n",
    "mse_mixed = get_linear(src_lr_mixed, tgt_lr_mixed, mixed_test_y[:100], k = -0.4)\n",
    "print(mse_female)\n",
    "print(mse_male)\n",
    "print(mse_mixed)"
   ]
  },
  {
   "cell_type": "code",
   "execution_count": 262,
   "metadata": {},
   "outputs": [
    {
     "name": "stderr",
     "output_type": "stream",
     "text": [
      "/opt/anaconda3/lib/python3.7/site-packages/sklearn/neural_network/multilayer_perceptron.py:921: DataConversionWarning: A column-vector y was passed when a 1d array was expected. Please change the shape of y to (n_samples, ), for example using ravel().\n",
      "  y = column_or_1d(y, warn=True)\n",
      "/opt/anaconda3/lib/python3.7/site-packages/sklearn/neural_network/multilayer_perceptron.py:566: ConvergenceWarning: Stochastic Optimizer: Maximum iterations (250) reached and the optimization hasn't converged yet.\n",
      "  % self.max_iter, ConvergenceWarning)\n",
      "/opt/anaconda3/lib/python3.7/site-packages/sklearn/neural_network/multilayer_perceptron.py:921: DataConversionWarning: A column-vector y was passed when a 1d array was expected. Please change the shape of y to (n_samples, ), for example using ravel().\n",
      "  y = column_or_1d(y, warn=True)\n",
      "/opt/anaconda3/lib/python3.7/site-packages/sklearn/neural_network/multilayer_perceptron.py:566: ConvergenceWarning: Stochastic Optimizer: Maximum iterations (250) reached and the optimization hasn't converged yet.\n",
      "  % self.max_iter, ConvergenceWarning)\n",
      "/opt/anaconda3/lib/python3.7/site-packages/sklearn/neural_network/multilayer_perceptron.py:921: DataConversionWarning: A column-vector y was passed when a 1d array was expected. Please change the shape of y to (n_samples, ), for example using ravel().\n",
      "  y = column_or_1d(y, warn=True)\n",
      "/opt/anaconda3/lib/python3.7/site-packages/sklearn/neural_network/multilayer_perceptron.py:566: ConvergenceWarning: Stochastic Optimizer: Maximum iterations (250) reached and the optimization hasn't converged yet.\n",
      "  % self.max_iter, ConvergenceWarning)\n",
      "/opt/anaconda3/lib/python3.7/site-packages/sklearn/neural_network/multilayer_perceptron.py:921: DataConversionWarning: A column-vector y was passed when a 1d array was expected. Please change the shape of y to (n_samples, ), for example using ravel().\n",
      "  y = column_or_1d(y, warn=True)\n",
      "/opt/anaconda3/lib/python3.7/site-packages/sklearn/neural_network/multilayer_perceptron.py:566: ConvergenceWarning: Stochastic Optimizer: Maximum iterations (250) reached and the optimization hasn't converged yet.\n",
      "  % self.max_iter, ConvergenceWarning)\n",
      "/opt/anaconda3/lib/python3.7/site-packages/sklearn/neural_network/multilayer_perceptron.py:921: DataConversionWarning: A column-vector y was passed when a 1d array was expected. Please change the shape of y to (n_samples, ), for example using ravel().\n",
      "  y = column_or_1d(y, warn=True)\n",
      "/opt/anaconda3/lib/python3.7/site-packages/sklearn/neural_network/multilayer_perceptron.py:566: ConvergenceWarning: Stochastic Optimizer: Maximum iterations (250) reached and the optimization hasn't converged yet.\n",
      "  % self.max_iter, ConvergenceWarning)\n",
      "/opt/anaconda3/lib/python3.7/site-packages/sklearn/neural_network/multilayer_perceptron.py:921: DataConversionWarning: A column-vector y was passed when a 1d array was expected. Please change the shape of y to (n_samples, ), for example using ravel().\n",
      "  y = column_or_1d(y, warn=True)\n"
     ]
    },
    {
     "name": "stdout",
     "output_type": "stream",
     "text": [
      "mse of linint_lr_female: 151.84995458067806\n",
      "mse of linint_lr_male: 173.0286375808581\n",
      "mse of linint_lr_mixed: 136.58578440683428\n",
      "mse of linint_mlp_female: 192.16491935483873\n",
      "mse of linint_mlp_male: 155.97635338345864\n",
      "mse of linint_mlp_mixed: 150.9519492868463\n"
     ]
    },
    {
     "name": "stderr",
     "output_type": "stream",
     "text": [
      "/opt/anaconda3/lib/python3.7/site-packages/sklearn/neural_network/multilayer_perceptron.py:566: ConvergenceWarning: Stochastic Optimizer: Maximum iterations (250) reached and the optimization hasn't converged yet.\n",
      "  % self.max_iter, ConvergenceWarning)\n"
     ]
    }
   ],
   "source": [
    "testsrc_lr_female, testsrc_mlp_female = get_linint(lr, mlp, f3_train_x, f3_train_y, female_test_x[100:])\n",
    "testsrc_lr_male, testsrc_mlp_male = get_linint(lr, mlp, f2_train_x, f2_train_y, male_test_x[100:])\n",
    "testsrc_lr_mixed, testsrc_mlp_mixed = get_linint(lr, mlp, f1_train_x, f1_train_y, mixed_test_x[100:])\n",
    "\n",
    "testtgt_lr_female, testtgt_mlp_female = get_linint(lr, mlp, female_train_x[:100], female_train_y[:100], female_test_x[100:])\n",
    "testtgt_lr_male, testtgt_mlp_male = get_linint(lr, mlp, male_train_x[:100], male_train_y[:100], male_test_x[100:])\n",
    "testtgt_lr_mixed, testtgt_mlp_mixed = get_linint(lr, mlp, mixed_train_x[:100], mixed_train_y[:100], mixed_test_x[100:])\n",
    "\n",
    "lin_lr_female = get_linear(testsrc_lr_female, testtgt_lr_female, female_test_y[100:], k = -0.65)\n",
    "lin_lr_male = get_linear(testsrc_lr_male, testtgt_lr_male, male_test_y[100:], k = -0.1)\n",
    "lin_lr_mixed = get_linear(testsrc_lr_mixed, testtgt_lr_mixed, mixed_test_y[100:], k = -0.4)\n",
    "lin_mlp_female = get_linear(testsrc_mlp_female, testtgt_mlp_female, female_test_y[100:], k = -0.65)\n",
    "lin_mlp_male = get_linear(testsrc_mlp_male, testtgt_mlp_male, male_test_y[100:], k = -0.1)\n",
    "lin_mlp_mixed = get_linear(testsrc_mlp_mixed, testtgt_mlp_mixed, mixed_test_y[100:], k = -0.4)\n",
    "\n",
    "print(\"mse of linint_lr_female:\", lin_lr_female)\n",
    "print(\"mse of linint_lr_male:\", lin_lr_male)\n",
    "print(\"mse of linint_lr_mixed:\", lin_lr_mixed)\n",
    "print(\"mse of linint_mlp_female:\", lin_mlp_female)\n",
    "print(\"mse of linint_mlp_male:\", lin_mlp_male)\n",
    "print(\"mse of linint_mlp_mixed:\", lin_mlp_mixed)"
   ]
  },
  {
   "cell_type": "code",
   "execution_count": 310,
   "metadata": {},
   "outputs": [
    {
     "name": "stdout",
     "output_type": "stream",
     "text": [
      "mse of feda_lr_female: 142.27279761364943\n",
      "mse of feda_lr_male: 143.40828568526476\n",
      "mse of feda_lr_mixed: 152.63156369585965\n"
     ]
    },
    {
     "name": "stderr",
     "output_type": "stream",
     "text": [
      "/opt/anaconda3/lib/python3.7/site-packages/sklearn/neural_network/multilayer_perceptron.py:921: DataConversionWarning: A column-vector y was passed when a 1d array was expected. Please change the shape of y to (n_samples, ), for example using ravel().\n",
      "  y = column_or_1d(y, warn=True)\n",
      "/opt/anaconda3/lib/python3.7/site-packages/sklearn/neural_network/multilayer_perceptron.py:566: ConvergenceWarning: Stochastic Optimizer: Maximum iterations (250) reached and the optimization hasn't converged yet.\n",
      "  % self.max_iter, ConvergenceWarning)\n",
      "/opt/anaconda3/lib/python3.7/site-packages/sklearn/neural_network/multilayer_perceptron.py:921: DataConversionWarning: A column-vector y was passed when a 1d array was expected. Please change the shape of y to (n_samples, ), for example using ravel().\n",
      "  y = column_or_1d(y, warn=True)\n",
      "/opt/anaconda3/lib/python3.7/site-packages/sklearn/neural_network/multilayer_perceptron.py:566: ConvergenceWarning: Stochastic Optimizer: Maximum iterations (250) reached and the optimization hasn't converged yet.\n",
      "  % self.max_iter, ConvergenceWarning)\n",
      "/opt/anaconda3/lib/python3.7/site-packages/sklearn/neural_network/multilayer_perceptron.py:921: DataConversionWarning: A column-vector y was passed when a 1d array was expected. Please change the shape of y to (n_samples, ), for example using ravel().\n",
      "  y = column_or_1d(y, warn=True)\n"
     ]
    },
    {
     "name": "stdout",
     "output_type": "stream",
     "text": [
      "mse of feda_mlp_female: 139.1468491588252\n",
      "mse of feda_mlp_male: 143.6313589854446\n",
      "mse of feda_mlp_mixed: 146.1135492117597\n"
     ]
    },
    {
     "name": "stderr",
     "output_type": "stream",
     "text": [
      "/opt/anaconda3/lib/python3.7/site-packages/sklearn/neural_network/multilayer_perceptron.py:566: ConvergenceWarning: Stochastic Optimizer: Maximum iterations (250) reached and the optimization hasn't converged yet.\n",
      "  % self.max_iter, ConvergenceWarning)\n"
     ]
    }
   ],
   "source": [
    "#FEDA\n",
    "def get_feda(source, num):\n",
    "    new_data = []\n",
    "    for row in source:\n",
    "        add = []\n",
    "        for i in row:\n",
    "            add.append(i)\n",
    "            if num == 1:\n",
    "                add.append(i)\n",
    "                add.append(0)\n",
    "                add.append(0)\n",
    "            elif num == 2:\n",
    "                add.append(0)\n",
    "                add.append(i)\n",
    "                add.append(0)\n",
    "            elif num == 3:\n",
    "                add.append(0)\n",
    "                add.append(0)\n",
    "                add.append(i)\n",
    "        new_data.append(add)\n",
    "    data = np.array(new_data)\n",
    "    return data\n",
    "\n",
    "feda_female = get_feda(female_train_x, 1)\n",
    "feda_male = get_feda(male_train_x, 2)\n",
    "feda_mixed = get_feda(mixed_train_x, 3)\n",
    "\n",
    "test_female = get_feda(female_test_x, 1)\n",
    "test_male = get_feda(male_test_x, 2)\n",
    "test_mixed = get_feda(mixed_test_x, 3)\n",
    "\n",
    "k = 0.2\n",
    "\n",
    "#target\n",
    "train_x_female = np.vstack((feda_male, k*feda_mixed))\n",
    "train_female_x = np.vstack((train_x_female, feda_female[:200]))\n",
    "\n",
    "train_y_female = np.vstack((male_train_y, mixed_train_y))\n",
    "train_female_y = np.vstack((train_y_female, female_train_y[:200]))\n",
    "\n",
    "test_x_female = np.vstack((test_female, k*feda_mixed))\n",
    "test_y_female = np.vstack((female_test_y, mixed_train_y))\n",
    "\n",
    "train_x_male = np.vstack((feda_female, k*feda_mixed))\n",
    "train_male_x = np.vstack((train_x_male, feda_male[:200]))\n",
    "\n",
    "train_y_male = np.vstack((female_train_y, mixed_train_y))\n",
    "train_male_y = np.vstack((train_y_male, male_train_y[:200]))\n",
    "\n",
    "test_x_male = np.vstack((test_male, k*feda_mixed))\n",
    "test_y_male = np.vstack((male_test_y, mixed_train_y))\n",
    "\n",
    "train_x_mixed = np.vstack((feda_male, k*feda_female))\n",
    "train_mixed_x = np.vstack((train_x_mixed, feda_mixed[:200]))\n",
    "\n",
    "train_y_mixed = np.vstack((male_train_y, female_train_y))\n",
    "train_mixed_y = np.vstack((train_y_mixed, mixed_train_y[:200]))\n",
    "\n",
    "test_x_mixed = np.vstack((test_mixed, k*feda_female))\n",
    "test_y_mixed = np.vstack((mixed_test_y, female_train_y))\n",
    "\n",
    "feda_lr_female = output(lr,\n",
    "                      train_female_x,\n",
    "                      train_female_y,\n",
    "                      test_x_female,\n",
    "                      test_y_female)\n",
    "feda_lr_male = output(lr,\n",
    "                      train_male_x,\n",
    "                      train_male_y,\n",
    "                      test_x_male,\n",
    "                      test_y_male)\n",
    "feda_lr_mixed = output(lr,\n",
    "                      train_mixed_x,\n",
    "                      train_mixed_y,\n",
    "                      test_x_mixed,\n",
    "                      test_y_mixed)\n",
    "print(\"mse of feda_lr_female:\", feda_lr_female)\n",
    "print(\"mse of feda_lr_male:\", feda_lr_male)\n",
    "print(\"mse of feda_lr_mixed:\", feda_lr_mixed)\n",
    "\n",
    "feda_mlp_female = output(mlp,\n",
    "                      train_female_x,\n",
    "                      train_female_y,\n",
    "                      test_x_female,\n",
    "                      test_y_female)\n",
    "feda_mlp_male = output(mlp,\n",
    "                      train_male_x,\n",
    "                      train_male_y,\n",
    "                      test_x_male,\n",
    "                      test_y_male)\n",
    "feda_mlp_mixed = output(mlp,\n",
    "                      train_mixed_x,\n",
    "                      train_mixed_y,\n",
    "                      test_x_mixed,\n",
    "                      test_y_mixed)\n",
    "print(\"mse of feda_mlp_female:\", feda_mlp_female)\n",
    "print(\"mse of feda_mlp_male:\", feda_mlp_male)\n",
    "print(\"mse of feda_mlp_mixed:\", feda_mlp_mixed)"
   ]
  },
  {
   "cell_type": "code",
   "execution_count": 343,
   "metadata": {},
   "outputs": [
    {
     "name": "stdout",
     "output_type": "stream",
     "text": [
      "mse of coral_female: 202.7741935483871\n",
      "mse of coral_male: 207.3796992481203\n",
      "mse of coral_mixed: 263.5324881141046\n"
     ]
    }
   ],
   "source": [
    "#part2\n",
    "# encoding=utf-8\n",
    "# ***************************************************************************************\n",
    "# *    Title: CORAL implementation\n",
    "# *    Author: Jindong Wang\n",
    "# *    Date: 13 November, 2018\n",
    "# *    Code version: NN\n",
    "# *    Availability: https://github.com/jindongwang/transferlearning/blob/master/code/traditional/CORAL/CORAL.py\n",
    "# *\n",
    "# ***************************************************************************************\n",
    "\n",
    "import numpy as np\n",
    "import scipy.io\n",
    "import scipy.linalg\n",
    "import sklearn.metrics\n",
    "import sklearn.neighbors\n",
    "\n",
    "\n",
    "class CORAL:\n",
    "    def __init__(self):\n",
    "        super(CORAL, self).__init__()\n",
    "\n",
    "    def fit(self, Xs, Xt):\n",
    "        '''\n",
    "        Perform CORAL on the source domain features\n",
    "        :param Xs: ns * n_feature, source feature\n",
    "        :param Xt: nt * n_feature, target feature\n",
    "        :return: New source domain features\n",
    "        '''\n",
    "        cov_src = np.cov(Xs.T) + np.eye(Xs.shape[1])\n",
    "        cov_tar = np.cov(Xt.T) + np.eye(Xt.shape[1])\n",
    "        A_coral = np.dot(scipy.linalg.fractional_matrix_power(cov_src, 1),\n",
    "                         scipy.linalg.fractional_matrix_power(cov_tar, 0.5))\n",
    "        Xs_new = np.dot(Xs, A_coral)\n",
    "        return Xs_new\n",
    "\n",
    "    def fit_predict(self, Xs, Ys, Xt, Yt):\n",
    "        '''\n",
    "        Perform CORAL, then predict using 1NN classifier\n",
    "        :param Xs: ns * n_feature, source feature\n",
    "        :param Ys: ns * 1, source label\n",
    "        :param Xt: nt * n_feature, target feature\n",
    "        :param Yt: nt * 1, target label\n",
    "        :return: Accuracy and predicted labels of target domain\n",
    "        '''\n",
    "        Xs_new = self.fit(Xs, Xt)\n",
    "        clf = sklearn.neighbors.KNeighborsClassifier(n_neighbors=1)\n",
    "        clf.fit(Xs_new, Ys.ravel())\n",
    "        y_pred = clf.predict(Xt)\n",
    "        acc = sklearn.metrics.accuracy_score(Yt, y_pred)\n",
    "        mse = mean_squared_error(Yt, y_pred)\n",
    "        return mse\n",
    "\n",
    "Xs, Ys, Xt, Yt = f3_train_x, f3_train_y, female_test_x[100:], female_test_y[100:]\n",
    "coral = CORAL()\n",
    "coral_female = coral.fit_predict(Xs, Ys, Xt, Yt)\n",
    "print(\"mse of coral_female:\", coral_female)\n",
    "\n",
    "Xs, Ys, Xt, Yt = f2_train_x, f2_train_y, male_test_x[100:], male_test_y[100:]\n",
    "coral = CORAL()\n",
    "coral_male = coral.fit_predict(Xs, Ys, Xt, Yt)\n",
    "print(\"mse of coral_male:\", coral_male)\n",
    "\n",
    "Xs, Ys, Xt, Yt = f1_train_x, f1_train_y, mixed_test_x[100:], mixed_test_y[100:]\n",
    "coral = CORAL()\n",
    "coral_mixed = coral.fit_predict(Xs, Ys, Xt, Yt)\n",
    "print(\"mse of coral_mixed:\", coral_mixed)\n"
   ]
  },
  {
   "cell_type": "code",
   "execution_count": null,
   "metadata": {},
   "outputs": [],
   "source": []
  }
 ],
 "metadata": {
  "kernelspec": {
   "display_name": "Python 3",
   "language": "python",
   "name": "python3"
  },
  "language_info": {
   "codemirror_mode": {
    "name": "ipython",
    "version": 3
   },
   "file_extension": ".py",
   "mimetype": "text/x-python",
   "name": "python",
   "nbconvert_exporter": "python",
   "pygments_lexer": "ipython3",
   "version": "3.7.4"
  }
 },
 "nbformat": 4,
 "nbformat_minor": 4
}
